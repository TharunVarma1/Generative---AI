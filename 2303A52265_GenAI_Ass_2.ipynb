{
  "nbformat": 4,
  "nbformat_minor": 0,
  "metadata": {
    "colab": {
      "provenance": [],
      "toc_visible": true,
      "authorship_tag": "ABX9TyO7Z4eiacZeva2WP9mSfr7e",
      "include_colab_link": true
    },
    "kernelspec": {
      "name": "python3",
      "display_name": "Python 3"
    },
    "language_info": {
      "name": "python"
    }
  },
  "cells": [
    {
      "cell_type": "markdown",
      "metadata": {
        "id": "view-in-github",
        "colab_type": "text"
      },
      "source": [
        "<a href=\"https://colab.research.google.com/github/TharunVarma1/Generative---AI/blob/main/2303A52265_GenAI_Ass_2.ipynb\" target=\"_parent\"><img src=\"https://colab.research.google.com/assets/colab-badge.svg\" alt=\"Open In Colab\"/></a>"
      ]
    },
    {
      "cell_type": "code",
      "execution_count": null,
      "metadata": {
        "colab": {
          "base_uri": "https://localhost:8080/"
        },
        "id": "pL3O3rZiy1-Y",
        "outputId": "a8bd7b47-3e08-4f3f-9adf-3d8cb69764c4"
      },
      "outputs": [
        {
          "output_type": "stream",
          "name": "stdout",
          "text": [
            "Optimal solution found:\n",
            "Units of A to produce: 2.00\n",
            "Units of B to produce: 3.00\n",
            "Maximum profit: Rs 27.00\n"
          ]
        }
      ],
      "source": [
        "from scipy.optimize import linprog\n",
        "profit_coeffs = [-6, -5]\n",
        "\n",
        "constraints = [\n",
        "    [1, 1],\n",
        "    [3, 2],\n",
        "]\n",
        "\n",
        "\n",
        "rhs = [5, 12]\n",
        "\n",
        "\n",
        "bounds = [(0, None), (0, None)]\n",
        "\n",
        "result = linprog(c=profit_coeffs, A_ub=constraints, b_ub=rhs, bounds=bounds, method='highs')\n",
        "\n",
        "\n",
        "if result.success:\n",
        "    print(\"Optimal solution found:\")\n",
        "    print(f\"Units of A to produce: {result.x[0]:.2f}\")\n",
        "    print(f\"Units of B to produce: {result.x[1]:.2f}\")\n",
        "    print(f\"Maximum profit: Rs {abs(result.fun):.2f}\")\n",
        "else:\n",
        "    print(\"No optimal solution found.\")"
      ]
    },
    {
      "cell_type": "code",
      "source": [
        "from scipy.optimize import linprog\n",
        "\n",
        "profit_coeffs = [-50, -120]\n",
        "\n",
        "\n",
        "constraints = [\n",
        "    [7000, 2000],\n",
        "    [10, 30],\n",
        "    [1, 1],\n",
        "]\n",
        "\n",
        "\n",
        "rhs = [700000, 1200, 110]\n",
        "\n",
        "\n",
        "bounds = [(0, None), (0, None)]\n",
        "\n",
        "\n",
        "result = linprog(c=profit_coeffs, A_ub=constraints, b_ub=rhs, bounds=bounds, method='highs')\n",
        "\n",
        "\n",
        "if result.success:\n",
        "    print(\"Optimal solution found:\")\n",
        "    print(f\"Hectares of Wheat to grow: {result.x[0]:.2f}\")\n",
        "    print(f\"Hectares of Barley to grow: {result.x[1]:.2f}\")\n",
        "    print(f\"Maximum profit: Rs {abs(result.fun):.2f}\")\n",
        "else:\n",
        "    print(\"No optimal solution found.\")"
      ],
      "metadata": {
        "id": "O0NvbJvV1UpR",
        "outputId": "e48f88e0-4002-4140-909f-e11a4785cc9e",
        "colab": {
          "base_uri": "https://localhost:8080/"
        }
      },
      "execution_count": null,
      "outputs": [
        {
          "output_type": "stream",
          "name": "stdout",
          "text": [
            "Optimal solution found:\n",
            "Hectares of Wheat to grow: 97.89\n",
            "Hectares of Barley to grow: 7.37\n",
            "Maximum profit: Rs 5778.95\n"
          ]
        }
      ]
    }
  ]
}